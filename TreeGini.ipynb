{
 "cells": [
  {
   "cell_type": "code",
   "execution_count": 19,
   "metadata": {},
   "outputs": [],
   "source": [
    "import numpy as np"
   ]
  },
  {
   "cell_type": "code",
   "execution_count": 20,
   "metadata": {},
   "outputs": [],
   "source": [
    "def gini_index(groups, classes):\n",
    "    n_instances = float(sum([len(group) for group in groups])) \n",
    "    gini = 0.0\n",
    "    for group in groups:\n",
    "        size = len(group)\n",
    "        if size == 0:\n",
    "            continue\n",
    "        score = 0.0\n",
    "        for class_val in classes:\n",
    "            proportion = (group[:, -1] == class_val).sum() / size\n",
    "            score += proportion ** 2\n",
    "        gini += (1.0 - score) * (size / n_instances)\n",
    "    return gini\n"
   ]
  },
  {
   "cell_type": "code",
   "execution_count": 21,
   "metadata": {},
   "outputs": [],
   "source": [
    "def split_node(index, value, dataset):\n",
    "    left = dataset[dataset[:, index] < value]\n",
    "    right = dataset[dataset[:, index] >= value]\n",
    "    return left, right"
   ]
  },
  {
   "cell_type": "code",
   "execution_count": 22,
   "metadata": {},
   "outputs": [],
   "source": [
    "def get_best_split(dataset):\n",
    "    class_values = np.unique(dataset[:, -1])\n",
    "    best_index, best_value, best_score, best_groups = None, None, float('inf'), None\n",
    "    for index in range(dataset.shape[1] - 1):\n",
    "        for row in dataset:\n",
    "            groups = split_node(index, row[index], dataset)\n",
    "            gini = gini_index(groups, class_values)\n",
    "            if gini < best_score:\n",
    "                best_index, best_value, best_score, best_groups = index, row[index], gini, groups\n",
    "    return {'index': best_index, 'value': best_value, 'groups': best_groups}"
   ]
  },
  {
   "cell_type": "code",
   "execution_count": 23,
   "metadata": {},
   "outputs": [],
   "source": [
    "def to_terminal(group):\n",
    "    if len(group) == 0:  \n",
    "        return None \n",
    "    outcomes = group[:, -1]\n",
    "    return np.bincount(outcomes.astype(int)).argmax()"
   ]
  },
  {
   "cell_type": "code",
   "execution_count": 24,
   "metadata": {},
   "outputs": [],
   "source": [
    "def build_tree(node, max_depth, min_size, depth):\n",
    "\n",
    "    left, right = node['groups']\n",
    "    del(node['groups'])  # Удаляем группы из узла, чтобы сохранить дерево компактным\n",
    "\n",
    "    if depth >= max_depth:\n",
    "        node['left'] = to_terminal(left)\n",
    "        node['right'] = to_terminal(right)\n",
    "        return\n",
    "\n",
    "    if len(left) == 0:\n",
    "        node['left'] = to_terminal(right)\n",
    "        node['right'] = to_terminal(right)\n",
    "        return\n",
    "    if len(right) == 0:\n",
    "        node['left'] = to_terminal(left)\n",
    "        node['right'] = to_terminal(left)\n",
    "        return\n",
    "\n",
    "    if len(left) <= min_size:\n",
    "        node['left'] = to_terminal(left)\n",
    "    else:\n",
    "        node['left'] = get_best_split(left)\n",
    "        build_tree(node['left'], max_depth, min_size, depth + 1)\n",
    "\n",
    "    if len(right) <= min_size:\n",
    "        node['right'] = to_terminal(right)\n",
    "    else:\n",
    "        node['right'] = get_best_split(right)\n",
    "        build_tree(node['right'], max_depth, min_size, depth + 1)"
   ]
  },
  {
   "cell_type": "code",
   "execution_count": 25,
   "metadata": {},
   "outputs": [],
   "source": [
    "def decision_tree(train, max_depth, min_size):\n",
    "    root = get_best_split(train)\n",
    "    build_tree(root, max_depth, min_size, 1)\n",
    "    return root"
   ]
  },
  {
   "cell_type": "code",
   "execution_count": 26,
   "metadata": {},
   "outputs": [],
   "source": [
    "def predict(node, row):\n",
    "\n",
    "    if row[node['index']] < node['value']:\n",
    "        if isinstance(node['left'], dict):\n",
    "            return predict(node['left'], row)\n",
    "        else:\n",
    "            return node['left']\n",
    "    else:\n",
    "        if isinstance(node['right'], dict):\n",
    "            return predict(node['right'], row)\n",
    "        else:\n",
    "            return node['right']"
   ]
  },
  {
   "cell_type": "code",
   "execution_count": 35,
   "metadata": {},
   "outputs": [],
   "source": [
    "dataset = np.array([\n",
    "    [2.771244718, 1.784783929, 0],\n",
    "    [1.728571309, 1.169761413, 0],\n",
    "    [3.678319846, 2.81281357, 0],\n",
    "    [3.961043357, 2.61995032, 0],\n",
    "    [2.999208922, 2.209014212, 0],\n",
    "    [7.497545867, 3.162953546, 1],\n",
    "    [9.00220326, 3.339047188, 1],\n",
    "    [7.444542326, 0.476683375, 1],\n",
    "    [10.12493903, 3.234550982, 1],\n",
    "    [6.642287351, 3.319983761, 1]\n",
    "])"
   ]
  },
  {
   "cell_type": "code",
   "execution_count": 36,
   "metadata": {},
   "outputs": [
    {
     "name": "stdout",
     "output_type": "stream",
     "text": [
      "Expected: 0.0, Predicted: 0\n",
      "Expected: 0.0, Predicted: 0\n",
      "Expected: 0.0, Predicted: 0\n",
      "Expected: 0.0, Predicted: 0\n",
      "Expected: 0.0, Predicted: 0\n",
      "Expected: 1.0, Predicted: 1\n",
      "Expected: 1.0, Predicted: 1\n",
      "Expected: 1.0, Predicted: 1\n",
      "Expected: 1.0, Predicted: 1\n",
      "Expected: 1.0, Predicted: 1\n"
     ]
    }
   ],
   "source": [
    "tree = decision_tree(dataset, max_depth=1, min_size=7)\n",
    "\n",
    "for row in dataset:\n",
    "    prediction = predict(tree, row)\n",
    "    print(f\"Expected: {row[-1]}, Predicted: {prediction}\")"
   ]
  },
  {
   "cell_type": "code",
   "execution_count": null,
   "metadata": {},
   "outputs": [],
   "source": []
  },
  {
   "cell_type": "code",
   "execution_count": null,
   "metadata": {},
   "outputs": [],
   "source": []
  }
 ],
 "metadata": {
  "kernelspec": {
   "display_name": "base",
   "language": "python",
   "name": "python3"
  },
  "language_info": {
   "codemirror_mode": {
    "name": "ipython",
    "version": 3
   },
   "file_extension": ".py",
   "mimetype": "text/x-python",
   "name": "python",
   "nbconvert_exporter": "python",
   "pygments_lexer": "ipython3",
   "version": "3.12.7"
  }
 },
 "nbformat": 4,
 "nbformat_minor": 2
}
