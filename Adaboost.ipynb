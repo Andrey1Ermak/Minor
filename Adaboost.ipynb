{
 "cells": [
  {
   "cell_type": "code",
   "execution_count": 4,
   "metadata": {},
   "outputs": [],
   "source": [
    "import numpy as np\n",
    "from sklearn.tree import DecisionTreeClassifier"
   ]
  },
  {
   "cell_type": "code",
   "execution_count": 5,
   "metadata": {},
   "outputs": [],
   "source": [
    "def adaboost_step(X, y, sample_weights):\n",
    "    weak_classifier = DecisionTreeClassifier(max_depth=1)\n",
    "    weak_classifier.fit(X, y, sample_weight=sample_weights)\n",
    "\n",
    "    predictions = weak_classifier.predict(X)\n",
    "\n",
    "    err = np.sum(sample_weights * (predictions != y)) / np.sum(sample_weights)\n",
    "\n",
    "    alpha = 0.5 * np.log((1 - err) / (err + 1e-10))\n",
    "\n",
    "    sample_weights *= np.exp(-alpha * y * predictions)\n",
    "    sample_weights /= np.sum(sample_weights)\n",
    "\n",
    "    return weak_classifier, alpha, sample_weights\n",
    "\n",
    "def adaboost_fit(X, y, n_estimators=50):\n",
    "    n_samples = X.shape[0]\n",
    "    sample_weights = np.ones(n_samples) / n_samples\n",
    "\n",
    "    classifiers = []\n",
    "    alphas = []\n",
    "\n",
    "    for _ in range(n_estimators):\n",
    "        classifier, alpha, sample_weights = adaboost_step(X, y, sample_weights)\n",
    "        classifiers.append(classifier)\n",
    "        alphas.append(alpha)\n",
    "\n",
    "    return classifiers, alphas\n",
    "\n",
    "def adaboost_predict(X, classifiers, alphas):\n",
    "    final_predictions = np.zeros(X.shape[0])\n",
    "\n",
    "    for classifier, alpha in zip(classifiers, alphas):\n",
    "        predictions = classifier.predict(X)\n",
    "        final_predictions += alpha * predictions\n",
    "\n",
    "    return np.sign(final_predictions)"
   ]
  },
  {
   "cell_type": "code",
   "execution_count": 6,
   "metadata": {},
   "outputs": [
    {
     "name": "stdout",
     "output_type": "stream",
     "text": [
      "Accuracy: 1.00\n"
     ]
    }
   ],
   "source": [
    "from sklearn.datasets import make_classification\n",
    "\n",
    "X, y = make_classification(n_samples=100, n_features=10, random_state=42)\n",
    "y = np.where(y == 0, -1, 1) \n",
    "\n",
    "classifiers, alphas = adaboost_fit(X, y, n_estimators=50)\n",
    "\n",
    "predictions = adaboost_predict(X, classifiers, alphas)\n",
    "\n",
    "accuracy = np.mean(predictions == y)\n",
    "print(f\"Accuracy: {accuracy:.2f}\")"
   ]
  }
 ],
 "metadata": {
  "kernelspec": {
   "display_name": "base",
   "language": "python",
   "name": "python3"
  },
  "language_info": {
   "codemirror_mode": {
    "name": "ipython",
    "version": 3
   },
   "file_extension": ".py",
   "mimetype": "text/x-python",
   "name": "python",
   "nbconvert_exporter": "python",
   "pygments_lexer": "ipython3",
   "version": "3.12.7"
  }
 },
 "nbformat": 4,
 "nbformat_minor": 2
}
