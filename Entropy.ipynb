{
 "cells": [
  {
   "cell_type": "code",
   "execution_count": 7,
   "metadata": {},
   "outputs": [
    {
     "name": "stdout",
     "output_type": "stream",
     "text": [
      "Энтропия данных: 0.9910760598382222\n"
     ]
    }
   ],
   "source": [
    "import numpy as np\n",
    "\n",
    "def custom_entropy(data):\n",
    "    \"\"\"\n",
    "    Рассчитывает энтропию для входных данных (например, категориальные переменные).\n",
    "    \n",
    "    Параметры:\n",
    "    data (array-like): Вектор или массив категориальных значений.\n",
    "    \n",
    "    Возвращает:\n",
    "    float: Энтропия, измеряющая неопределенность в данных.\n",
    "    \"\"\"\n",
    "    # Считаем частоты уникальных значений в данных\n",
    "    values, counts = np.unique(data, return_counts=True)\n",
    "    \n",
    "    # Вычисляем вероятности для каждого уникального значения\n",
    "    probabilities = counts / len(data)\n",
    "    \n",
    "    # Рассчитываем энтропию по формуле Шеннона\n",
    "    entropy = -np.sum(probabilities * np.log2(probabilities))\n",
    "    \n",
    "    return entropy\n",
    "\n",
    "data = [2, 3, 3, 3, 3, 3, 2, 2, 2]\n",
    "entropy_value = custom_entropy(data)\n",
    "print(f\"Энтропия данных: {entropy_value}\")"
   ]
  }
 ],
 "metadata": {
  "kernelspec": {
   "display_name": "Python 3",
   "language": "python",
   "name": "python3"
  },
  "language_info": {
   "codemirror_mode": {
    "name": "ipython",
    "version": 3
   },
   "file_extension": ".py",
   "mimetype": "text/x-python",
   "name": "python",
   "nbconvert_exporter": "python",
   "pygments_lexer": "ipython3",
   "version": "3.12.0"
  }
 },
 "nbformat": 4,
 "nbformat_minor": 2
}
