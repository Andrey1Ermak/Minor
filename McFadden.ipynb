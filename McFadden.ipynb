{
 "cells": [
  {
   "cell_type": "code",
   "execution_count": 1,
   "id": "2f60d6bc",
   "metadata": {},
   "outputs": [],
   "source": [
    "import numpy as np\n",
    "from scipy.stats import chi2\n",
    "from sklearn.linear_model import LogisticRegression\n",
    "from sklearn.metrics import log_loss\n",
    "from sklearn.datasets import make_classification"
   ]
  },
  {
   "cell_type": "code",
   "execution_count": null,
   "id": "6d54d821",
   "metadata": {},
   "outputs": [],
   "source": [
    "def custom_log_loss(y_true, y_pred):\n",
    "    \"\"\"\n",
    "    Вычисление логарифмической функции потерь (log-loss) вручную.\n",
    "    \n",
    "    :param y_true: Список или массив истинных классов (0 или 1 для бинарной классификации).\n",
    "    :param y_pred: Список или массив предсказанных вероятностей для класса 1.\n",
    "    :return: Значение log-loss.\n",
    "    \"\"\"\n",
    "    # Преобразуем входные данные в массивы NumPy для удобства вычислений\n",
    "    y_true = np.array(y_true)\n",
    "    y_pred = np.array(y_pred)\n",
    "    \n",
    "    # Добавляем защиту от 0 и 1, чтобы избежать проблем с log(0)\n",
    "    epsilon = 1e-15\n",
    "    y_pred = np.clip(y_pred, epsilon, 1 - epsilon)\n",
    "    \n",
    "    # Формула log-loss для бинарной классификации\n",
    "    loss = -np.mean(y_true * np.log(y_pred) + (1 - y_true) * np.log(1 - y_pred))\n",
    "    \n",
    "    return loss\n",
    "\n",
    "\n",
    "def mcfadden_pseudo_r2(y_true, y_pred_prob):\n",
    "    \"\"\"\n",
    "    Вычисление McFadden Pseudo R².\n",
    "    \n",
    "    :param y_true: Массив истинных меток (0 или 1).\n",
    "    :param y_pred_prob: Массив предсказанных вероятностей для класса 1.\n",
    "    :return: Значение McFadden Pseudo R².\n",
    "    \"\"\"\n",
    "    # Логарифм правдоподобия модели\n",
    "    ll_model = - custom_log_loss(y_true, y_pred_prob)\n",
    "    \n",
    "    # Логарифм правдоподобия базовой модели (всегда предсказывает вероятность среднего значения)\n",
    "    mean_prob = np.mean(y_true)\n",
    "    ll_null = - custom_log_loss(y_true, np.full_like(y_true, mean_prob))\n",
    "    \n",
    "    # McFadden Pseudo R²\n",
    "    r2_mcfadden = 1 - (ll_model / ll_null)\n",
    "    return r2_mcfadden\n",
    "\n",
    "\n",
    "def calculate_p_value_mcfadden(y_true, y_pred_prob, num_predictors):\n",
    "    \"\"\"\n",
    "    Рассчёт p-value для критерия McFadden с использованием LR-теста.\n",
    "    \n",
    "    :param y_true: Массив истинных меток (0 или 1).\n",
    "    :param y_pred_prob: Массив предсказанных вероятностей для класса 1.\n",
    "    :param num_predictors: Число предикторов в модели (k).\n",
    "    :return: p-value и статистика chi2.\n",
    "    \"\"\"\n",
    "    # Логарифм правдоподобия модели\n",
    "    ll_model = -custom_log_loss(y_true, y_pred_prob)\n",
    "    \n",
    "    # Логарифм правдоподобия нулевой модели\n",
    "    mean_prob = np.mean(y_true)\n",
    "    ll_null = -custom_log_loss(y_true, np.full_like(y_true, mean_prob))\n",
    "    \n",
    "    # LR-статистика\n",
    "    chi2_stat = 2 * (ll_model - ll_null)\n",
    "    \n",
    "    # Число степеней свободы\n",
    "    df = num_predictors\n",
    "    \n",
    "    # p-value\n",
    "    p_value = chi2.sf(chi2_stat, df)\n",
    "    \n",
    "    return p_value, chi2_stat"
   ]
  },
  {
   "cell_type": "code",
   "execution_count": null,
   "id": "b30589af",
   "metadata": {},
   "outputs": [
    {
     "name": "stdout",
     "output_type": "stream",
     "text": [
      "McFadden Pseudo R²: 0.9802\n"
     ]
    }
   ],
   "source": [
    "n_features = 7\n",
    "\n",
    "X, y = make_classification(n_samples=1000, n_features=n_features, random_state=42)\n",
    "\n",
    "model = LogisticRegression()\n",
    "model.fit(X, y)\n",
    "y_pred_prob = model.predict_proba(X)[:, 1]\n",
    "\n",
    "r2_mcfadden = mcfadden_pseudo_r2(y, y_pred_prob)\n",
    "print(f\"McFadden Pseudo R²: {r2_mcfadden:.4f}\")"
   ]
  }
 ],
 "metadata": {
  "kernelspec": {
   "display_name": "Python 3",
   "language": "python",
   "name": "python3"
  },
  "language_info": {
   "codemirror_mode": {
    "name": "ipython",
    "version": 3
   },
   "file_extension": ".py",
   "mimetype": "text/x-python",
   "name": "python",
   "nbconvert_exporter": "python",
   "pygments_lexer": "ipython3",
   "version": "3.12.0"
  }
 },
 "nbformat": 4,
 "nbformat_minor": 5
}
