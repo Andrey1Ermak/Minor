{
 "cells": [
  {
   "cell_type": "code",
   "execution_count": 11,
   "metadata": {},
   "outputs": [],
   "source": [
    "import numpy as np\n"
   ]
  },
  {
   "cell_type": "code",
   "execution_count": 12,
   "metadata": {},
   "outputs": [],
   "source": [
    "def gaussian_naive_bayes_fit(X, y):\n",
    "\n",
    "    classes = np.unique(y)  \n",
    "\n",
    "    means = {}\n",
    "    variances = {}\n",
    "    priors = {}\n",
    "\n",
    "    for cls in classes:\n",
    "        X_cls = X[y == cls]\n",
    "        \n",
    "        means[cls] = np.mean(X_cls, axis=0)\n",
    "        variances[cls] = np.var(X_cls, axis=0)\n",
    "        priors[cls] = X_cls.shape[0] / X.shape[0]\n",
    "\n",
    "    return {\n",
    "        'classes': classes,\n",
    "        'means': means,\n",
    "        'variances': variances,\n",
    "        'priors': priors\n",
    "    }"
   ]
  },
  {
   "cell_type": "code",
   "execution_count": 13,
   "metadata": {},
   "outputs": [],
   "source": [
    "def gaussian_naive_bayes_predict(X, model):\n",
    "\n",
    "    classes = model['classes']\n",
    "    means = model['means']\n",
    "    variances = model['variances']\n",
    "    priors = model['priors']\n",
    "\n",
    "    posteriors = np.zeros((X.shape[0], len(classes)))\n",
    "\n",
    "    for idx, cls in enumerate(classes):\n",
    "        mean = means[cls]\n",
    "        variance = variances[cls]\n",
    "        prior = priors[cls]\n",
    "\n",
    "        likelihood = (1 / np.sqrt(2 * np.pi * variance)) * np.exp(-((X - mean) ** 2) / (2 * variance))\n",
    "\n",
    "        posteriors[:, idx] = np.log(prior) + np.sum(np.log(likelihood), axis=1)\n",
    "\n",
    "    # Choose the class with the highest posterior probability\n",
    "    return classes[np.argmax(posteriors, axis=1)]"
   ]
  },
  {
   "cell_type": "code",
   "execution_count": 14,
   "metadata": {},
   "outputs": [
    {
     "name": "stdout",
     "output_type": "stream",
     "text": [
      "Predictions: [0 1 1]\n"
     ]
    },
    {
     "name": "stderr",
     "output_type": "stream",
     "text": [
      "/var/folders/71/7mkwvlfd149_1_b5jw_pdsb00000gn/T/ipykernel_92138/2609189846.py:17: RuntimeWarning: divide by zero encountered in log\n",
      "  posteriors[:, idx] = np.log(prior) + np.sum(np.log(likelihood), axis=1)\n"
     ]
    }
   ],
   "source": [
    "X_train = np.array([[1.0, 2.0], [1.5, 1.8], \n",
    "                    [5.0, 8.0], [6.0, 7.5]])\n",
    "y_train = np.array([0, 0, 1, 1])\n",
    "\n",
    "# Train the model\n",
    "model = gaussian_naive_bayes_fit(X_train, y_train)\n",
    "\n",
    "# Test dataset\n",
    "X_test = np.array([[1.2, 2.1], [5.5, 8.5], [3, 5]])\n",
    "\n",
    "# Predict\n",
    "predictions = gaussian_naive_bayes_predict(X_test, model)\n",
    "print(\"Predictions:\", predictions)"
   ]
  },
  {
   "cell_type": "code",
   "execution_count": null,
   "metadata": {},
   "outputs": [],
   "source": []
  }
 ],
 "metadata": {
  "kernelspec": {
   "display_name": "base",
   "language": "python",
   "name": "python3"
  },
  "language_info": {
   "codemirror_mode": {
    "name": "ipython",
    "version": 3
   },
   "file_extension": ".py",
   "mimetype": "text/x-python",
   "name": "python",
   "nbconvert_exporter": "python",
   "pygments_lexer": "ipython3",
   "version": "3.12.7"
  }
 },
 "nbformat": 4,
 "nbformat_minor": 2
}
